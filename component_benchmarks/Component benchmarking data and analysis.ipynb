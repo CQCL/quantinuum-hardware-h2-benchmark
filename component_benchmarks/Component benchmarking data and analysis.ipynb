{
 "cells": [
  {
   "cell_type": "markdown",
   "metadata": {},
   "source": [
    "# Component benchmarking data and analysis\n",
    "\n",
    "This notebook contains an overview of loading and analyzing experiments used to measure the Quantinuum Specification metrics, found in the *Quantinuum System Model H1 Product Data Sheet*.\n"
   ]
  },
  {
   "cell_type": "markdown",
   "metadata": {},
   "source": [
    "## Loading data\n",
    "\n",
    "Each data file is saved as a dictionary in a json file with five keys:\n",
    "- `survival`: nested dictionary of correct output counts for different qubits, lengths, and repetitions\n",
    "- `leakage_postselect`: (only newer RB tests) rate that leakage gadget identifies a leaked state at end of circuit\n",
    "- `expected_output`: nested dictionary of expected output string for different qubits, lengths, and repetitions\n",
    "- `sequence_info`: dictionary with keys=length, values=number of repetitions\n",
    "- `qasm`: dictionary with keys=`'length, rep index'` and value=qasm run on machine\n",
    "- `raw data`: dictionary with same keys as above with list outputs strings from each shot of the experiment\n",
    "- `shots`: number of shots for each circuit"
   ]
  },
  {
   "cell_type": "markdown",
   "metadata": {},
   "source": [
    "## Load all data"
   ]
  },
  {
   "cell_type": "code",
   "execution_count": 2,
   "metadata": {},
   "outputs": [
    {
     "data": {
      "text/html": [
       "<div>\n",
       "<style scoped>\n",
       "    .dataframe tbody tr th:only-of-type {\n",
       "        vertical-align: middle;\n",
       "    }\n",
       "\n",
       "    .dataframe tbody tr th {\n",
       "        vertical-align: top;\n",
       "    }\n",
       "\n",
       "    .dataframe thead th {\n",
       "        text-align: right;\n",
       "    }\n",
       "</style>\n",
       "<table border=\"1\" class=\"dataframe\">\n",
       "  <thead>\n",
       "    <tr style=\"text-align: right;\">\n",
       "      <th></th>\n",
       "      <th>Magnitude</th>\n",
       "      <th>Uncertainty</th>\n",
       "    </tr>\n",
       "  </thead>\n",
       "  <tbody>\n",
       "    <tr>\n",
       "      <th>Single-qubit gate error</th>\n",
       "      <td>2.498E-05</td>\n",
       "      <td>2.782E-06</td>\n",
       "    </tr>\n",
       "    <tr>\n",
       "      <th>Single-qubit leakage</th>\n",
       "      <td>3.697E-06</td>\n",
       "      <td>1.796E-06</td>\n",
       "    </tr>\n",
       "    <tr>\n",
       "      <th>Two-qubit gate error</th>\n",
       "      <td>1.834E-03</td>\n",
       "      <td>4.713E-05</td>\n",
       "    </tr>\n",
       "    <tr>\n",
       "      <th>Two-qubit leakage</th>\n",
       "      <td>3.942E-04</td>\n",
       "      <td>2.260E-05</td>\n",
       "    </tr>\n",
       "    <tr>\n",
       "      <th>SU(4) gate error</th>\n",
       "      <td>4.054E-03</td>\n",
       "      <td>1.481E-04</td>\n",
       "    </tr>\n",
       "    <tr>\n",
       "      <th>Memory error</th>\n",
       "      <td>2.161E-04</td>\n",
       "      <td>2.949E-05</td>\n",
       "    </tr>\n",
       "    <tr>\n",
       "      <th>Measurement crosstalk error</th>\n",
       "      <td>4.435E-06</td>\n",
       "      <td>7.421E-07</td>\n",
       "    </tr>\n",
       "    <tr>\n",
       "      <th>Reset crosstalk error</th>\n",
       "      <td>3.791E-06</td>\n",
       "      <td>6.003E-07</td>\n",
       "    </tr>\n",
       "    <tr>\n",
       "      <th>SPAM error</th>\n",
       "      <td>1.563E-03</td>\n",
       "      <td>1.396E-04</td>\n",
       "    </tr>\n",
       "  </tbody>\n",
       "</table>\n",
       "</div>"
      ],
      "text/plain": [
       "                             Magnitude  Uncertainty\n",
       "Single-qubit gate error      2.498E-05    2.782E-06\n",
       "Single-qubit leakage         3.697E-06    1.796E-06\n",
       "Two-qubit gate error         1.834E-03    4.713E-05\n",
       "Two-qubit leakage            3.942E-04    2.260E-05\n",
       "SU(4) gate error             4.054E-03    1.481E-04\n",
       "Memory error                 2.161E-04    2.949E-05\n",
       "Measurement crosstalk error  4.435E-06    7.421E-07\n",
       "Reset crosstalk error        3.791E-06    6.003E-07\n",
       "SPAM error                   1.563E-03    1.396E-04"
      ]
     },
     "execution_count": 2,
     "metadata": {},
     "output_type": "execute_result"
    }
   ],
   "source": [
    "from combined_analysis import combined_report\n",
    "\n",
    "df = combined_report(['1Q_RB', '2Q_RB', 'SU4_RB', 'Transport_1QRB', 'Measurement_crosstalk', 'Reset_crosstalk', 'SPAM'])\n",
    "df"
   ]
  },
  {
   "cell_type": "markdown",
   "metadata": {},
   "source": [
    "## Loading RB data\n",
    "\n",
    "The following experiments are analyzed with randomized benchmarking (RB) methods (`rb_type`):\n",
    "\n",
    "- `'1Q_RB'`: Single-qubit RB with random single-qubit Clifford gates done in parallel with two qubits in each active gate zone\n",
    "- `'2Q_RB'`: Two-qubit RB with random two-qubit Clifford gates done in parallel two qubits in each active gate zone\n",
    "- `'SU4_RB'`: Two-qubit RB with random SU(4) gates done in parallel two qubits in each active gate zone\n",
    "- `'Transport_1QRB'`: Single-qubit RB done in parallel across all available qubits in the trap and interleaved with random transport. The random transport is induced by using conditional two-qubit gates between random pairs of qubits and setting the condition to always fail. An additional delay is included after each failed conditional gate to simulate the time required for ion cooling.\n",
    "\n",
    "There are two analysis options (`data_type`):\n",
    "- `'survival'`: Survival probability that gives the overall error rate\n",
    "- `'leakage_postselect'`: Leakage postselect rate with leakage gadget that identifies leakage errors due to spontaneous emission"
   ]
  },
  {
   "cell_type": "code",
   "execution_count": 3,
   "metadata": {},
   "outputs": [],
   "source": [
    "import json\n",
    "import pathlib\n",
    "\n",
    "rb_type = '1Q_RB'  # options: '1Q_RB', '2Q_RB', 'SU4_RB', 'Transport_1QRB'\n",
    "data_type = 'survival'  # options: 'survival', 'leakage_postselect'\n",
    "\n",
    "file_name = f'{rb_type}.json'\n",
    "data_dir = pathlib.Path.cwd().parent.joinpath('component_benchmarks/data')\n",
    "\n",
    "with open(data_dir.joinpath(file_name), 'r') as f:\n",
    "    data = json.load(f)"
   ]
  },
  {
   "cell_type": "markdown",
   "metadata": {},
   "source": [
    "Each data file is analyzed with `rb_analysis()` function to output the estimated fidelity of the gates."
   ]
  },
  {
   "cell_type": "code",
   "execution_count": 4,
   "metadata": {},
   "outputs": [],
   "source": [
    "from rb_analysis_functions import rb_analysis\n",
    "\n",
    "fid_info, boot_info = rb_analysis(rb_type, data_type)"
   ]
  },
  {
   "cell_type": "markdown",
   "metadata": {},
   "source": [
    "### Report Table\n",
    "\n",
    "The table contains RB intercept and avg fidelity estimations with uncertainty from semi-parametric bootstrap resampling and basic bootstrap one-sigma confidence intervals. \n",
    "\n",
    "IMPORTANT NOTE: The RB intercept in the table below comes from the fit to the RB decay curve. For `'SQ_RB'` it is close to the SPAM metric discussed below but for `'TQ_RB'` it will be much larger since it contains error from one two-qubit Clifford gate."
   ]
  },
  {
   "cell_type": "code",
   "execution_count": 5,
   "metadata": {},
   "outputs": [
    {
     "data": {
      "text/html": [
       "<div>\n",
       "<style scoped>\n",
       "    .dataframe tbody tr th:only-of-type {\n",
       "        vertical-align: middle;\n",
       "    }\n",
       "\n",
       "    .dataframe tbody tr th {\n",
       "        vertical-align: top;\n",
       "    }\n",
       "\n",
       "    .dataframe thead th {\n",
       "        text-align: right;\n",
       "    }\n",
       "</style>\n",
       "<table border=\"1\" class=\"dataframe\">\n",
       "  <thead>\n",
       "    <tr style=\"text-align: right;\">\n",
       "      <th></th>\n",
       "      <th>Avg. infidelity</th>\n",
       "      <th>Avg. infidelity uncertainty</th>\n",
       "      <th>RB Intercept</th>\n",
       "      <th>RB Intercept uncertainty</th>\n",
       "    </tr>\n",
       "  </thead>\n",
       "  <tbody>\n",
       "    <tr>\n",
       "      <th>DG01-left</th>\n",
       "      <td>3.050E-05</td>\n",
       "      <td>8.466E-06</td>\n",
       "      <td>2.955E-03</td>\n",
       "      <td>1.161E-03</td>\n",
       "    </tr>\n",
       "    <tr>\n",
       "      <th>DG01-right</th>\n",
       "      <td>2.096E-05</td>\n",
       "      <td>6.087E-06</td>\n",
       "      <td>2.265E-03</td>\n",
       "      <td>9.032E-04</td>\n",
       "    </tr>\n",
       "    <tr>\n",
       "      <th>DG02-left</th>\n",
       "      <td>1.185E-05</td>\n",
       "      <td>5.153E-06</td>\n",
       "      <td>2.858E-03</td>\n",
       "      <td>9.465E-04</td>\n",
       "    </tr>\n",
       "    <tr>\n",
       "      <th>DG02-right</th>\n",
       "      <td>2.080E-05</td>\n",
       "      <td>6.030E-06</td>\n",
       "      <td>2.039E-03</td>\n",
       "      <td>8.066E-04</td>\n",
       "    </tr>\n",
       "    <tr>\n",
       "      <th>DG03-left</th>\n",
       "      <td>2.683E-05</td>\n",
       "      <td>8.052E-06</td>\n",
       "      <td>2.384E-03</td>\n",
       "      <td>1.084E-03</td>\n",
       "    </tr>\n",
       "    <tr>\n",
       "      <th>DG03-right</th>\n",
       "      <td>3.149E-05</td>\n",
       "      <td>8.899E-06</td>\n",
       "      <td>2.286E-03</td>\n",
       "      <td>1.170E-03</td>\n",
       "    </tr>\n",
       "    <tr>\n",
       "      <th>DG04-left</th>\n",
       "      <td>2.737E-05</td>\n",
       "      <td>8.526E-06</td>\n",
       "      <td>4.481E-03</td>\n",
       "      <td>1.280E-03</td>\n",
       "    </tr>\n",
       "    <tr>\n",
       "      <th>DG04-right</th>\n",
       "      <td>3.023E-05</td>\n",
       "      <td>9.290E-06</td>\n",
       "      <td>3.842E-03</td>\n",
       "      <td>1.497E-03</td>\n",
       "    </tr>\n",
       "    <tr>\n",
       "      <th>Mean</th>\n",
       "      <td>2.500E-05</td>\n",
       "      <td>2.723E-06</td>\n",
       "      <td>2.889E-03</td>\n",
       "      <td>3.979E-04</td>\n",
       "    </tr>\n",
       "  </tbody>\n",
       "</table>\n",
       "</div>"
      ],
      "text/plain": [
       "            Avg. infidelity  Avg. infidelity uncertainty  RB Intercept  \\\n",
       "DG01-left         3.050E-05                    8.466E-06     2.955E-03   \n",
       "DG01-right        2.096E-05                    6.087E-06     2.265E-03   \n",
       "DG02-left         1.185E-05                    5.153E-06     2.858E-03   \n",
       "DG02-right        2.080E-05                    6.030E-06     2.039E-03   \n",
       "DG03-left         2.683E-05                    8.052E-06     2.384E-03   \n",
       "DG03-right        3.149E-05                    8.899E-06     2.286E-03   \n",
       "DG04-left         2.737E-05                    8.526E-06     4.481E-03   \n",
       "DG04-right        3.023E-05                    9.290E-06     3.842E-03   \n",
       "Mean              2.500E-05                    2.723E-06     2.889E-03   \n",
       "\n",
       "            RB Intercept uncertainty  \n",
       "DG01-left                  1.161E-03  \n",
       "DG01-right                 9.032E-04  \n",
       "DG02-left                  9.465E-04  \n",
       "DG02-right                 8.066E-04  \n",
       "DG03-left                  1.084E-03  \n",
       "DG03-right                 1.170E-03  \n",
       "DG04-left                  1.280E-03  \n",
       "DG04-right                 1.497E-03  \n",
       "Mean                       3.979E-04  "
      ]
     },
     "execution_count": 5,
     "metadata": {},
     "output_type": "execute_result"
    }
   ],
   "source": [
    "from rb_reporting_functions import report\n",
    "\n",
    "report(fid_info, boot_info, data_type)"
   ]
  },
  {
   "cell_type": "markdown",
   "metadata": {},
   "source": [
    "### Plotting results"
   ]
  },
  {
   "cell_type": "code",
   "execution_count": 6,
   "metadata": {},
   "outputs": [
    {
     "data": {
      "image/png": "[encoded data removed]",
      "text/plain": [
       "<Figure size 432x288 with 1 Axes>"
      ]
     },
     "metadata": {
      "needs_background": "light"
     },
     "output_type": "display_data"
    }
   ],
   "source": [
    "from rb_reporting_functions import errorbar_plot\n",
    "\n",
    "errorbar_plot(fid_info, data, rb_type, data_type)"
   ]
  },
  {
   "cell_type": "markdown",
   "metadata": {},
   "source": [
    "## Loading bright decay datasets\n",
    "\n",
    "Measurement crosstalk errors are extracted by bright state depumping experiments, which measure the rate that bright state population is depumped by measurement on neighboring qubits. The experiment is repeated for qubits on each side of the gate zones."
   ]
  },
  {
   "cell_type": "code",
   "execution_count": 7,
   "metadata": {},
   "outputs": [],
   "source": [
    "import pathlib\n",
    "import json\n",
    "\n",
    "experiment = 'Measurement_crosstalk'  # options: 'Measurement_crosstalk', 'Reset_crosstalk'\n",
    "file_name = f'{experiment}.json'\n",
    "\n",
    "data_dir = pathlib.Path.cwd().parent.joinpath('component_benchmarks/data')\n",
    "\n",
    "with open(data_dir.joinpath(file_name), 'r') as f:\n",
    "    data = json.load(f)"
   ]
  },
  {
   "cell_type": "code",
   "execution_count": 10,
   "metadata": {},
   "outputs": [],
   "source": [
    "from decay_analysis_functions import decay_analysis\n",
    "\n",
    "fid_info, boot_info = decay_analysis(experiment)"
   ]
  },
  {
   "cell_type": "markdown",
   "metadata": {},
   "source": [
    "### Report table\n",
    "\n",
    "The table contains Decay intercept and avg infidelity estimates for measurement crosstalk errors. Uncertainty is calculated with a parametric bootstrap resampling and basic bootstrap one-sigma confidence interval.\n",
    "\n",
    "IMPORTANT NOTE: The Decay intercept in the table below comes from the fit to the bright state depumping decay curve. It is close to the SPAM metric discussed below."
   ]
  },
  {
   "cell_type": "code",
   "execution_count": 14,
   "metadata": {},
   "outputs": [
    {
     "data": {
      "text/html": [
       "<div>\n",
       "<style scoped>\n",
       "    .dataframe tbody tr th:only-of-type {\n",
       "        vertical-align: middle;\n",
       "    }\n",
       "\n",
       "    .dataframe tbody tr th {\n",
       "        vertical-align: top;\n",
       "    }\n",
       "\n",
       "    .dataframe thead th {\n",
       "        text-align: right;\n",
       "    }\n",
       "</style>\n",
       "<table border=\"1\" class=\"dataframe\">\n",
       "  <thead>\n",
       "    <tr style=\"text-align: right;\">\n",
       "      <th></th>\n",
       "      <th>Avg. infidelity</th>\n",
       "      <th>Avg. infidelity uncertainty</th>\n",
       "      <th>Decay intercept</th>\n",
       "      <th>Decay intercept uncertainty</th>\n",
       "    </tr>\n",
       "  </thead>\n",
       "  <tbody>\n",
       "    <tr>\n",
       "      <th>DG01-left</th>\n",
       "      <td>1.795E-06</td>\n",
       "      <td>1.335E-06</td>\n",
       "      <td>1.427E-03</td>\n",
       "      <td>8.025E-04</td>\n",
       "    </tr>\n",
       "    <tr>\n",
       "      <th>DG01-right</th>\n",
       "      <td>1.669E-06</td>\n",
       "      <td>1.845E-06</td>\n",
       "      <td>1.670E-03</td>\n",
       "      <td>1.170E-03</td>\n",
       "    </tr>\n",
       "    <tr>\n",
       "      <th>DG02-left</th>\n",
       "      <td>2.430E-05</td>\n",
       "      <td>3.151E-06</td>\n",
       "      <td>1.207E-24</td>\n",
       "      <td>8.280E-04</td>\n",
       "    </tr>\n",
       "    <tr>\n",
       "      <th>DG02-right</th>\n",
       "      <td>5.419E-06</td>\n",
       "      <td>2.526E-06</td>\n",
       "      <td>3.282E-03</td>\n",
       "      <td>1.458E-03</td>\n",
       "    </tr>\n",
       "    <tr>\n",
       "      <th>DG03-left</th>\n",
       "      <td>1.197E-06</td>\n",
       "      <td>1.489E-06</td>\n",
       "      <td>2.286E-03</td>\n",
       "      <td>1.001E-03</td>\n",
       "    </tr>\n",
       "    <tr>\n",
       "      <th>DG03-right</th>\n",
       "      <td>8.321E-07</td>\n",
       "      <td>1.052E-06</td>\n",
       "      <td>1.337E-03</td>\n",
       "      <td>8.078E-04</td>\n",
       "    </tr>\n",
       "    <tr>\n",
       "      <th>DG04-left</th>\n",
       "      <td>1.581E-07</td>\n",
       "      <td>4.771E-07</td>\n",
       "      <td>1.405E-03</td>\n",
       "      <td>5.464E-04</td>\n",
       "    </tr>\n",
       "    <tr>\n",
       "      <th>DG04-right</th>\n",
       "      <td>4.790E-07</td>\n",
       "      <td>1.012E-06</td>\n",
       "      <td>2.047E-03</td>\n",
       "      <td>8.553E-04</td>\n",
       "    </tr>\n",
       "    <tr>\n",
       "      <th>Mean</th>\n",
       "      <td>4.481E-06</td>\n",
       "      <td>6.382E-07</td>\n",
       "      <td>1.682E-03</td>\n",
       "      <td>3.426E-04</td>\n",
       "    </tr>\n",
       "  </tbody>\n",
       "</table>\n",
       "</div>"
      ],
      "text/plain": [
       "            Avg. infidelity  Avg. infidelity uncertainty  Decay intercept  \\\n",
       "DG01-left         1.795E-06                    1.335E-06        1.427E-03   \n",
       "DG01-right        1.669E-06                    1.845E-06        1.670E-03   \n",
       "DG02-left         2.430E-05                    3.151E-06        1.207E-24   \n",
       "DG02-right        5.419E-06                    2.526E-06        3.282E-03   \n",
       "DG03-left         1.197E-06                    1.489E-06        2.286E-03   \n",
       "DG03-right        8.321E-07                    1.052E-06        1.337E-03   \n",
       "DG04-left         1.581E-07                    4.771E-07        1.405E-03   \n",
       "DG04-right        4.790E-07                    1.012E-06        2.047E-03   \n",
       "Mean              4.481E-06                    6.382E-07        1.682E-03   \n",
       "\n",
       "            Decay intercept uncertainty  \n",
       "DG01-left                     8.025E-04  \n",
       "DG01-right                    1.170E-03  \n",
       "DG02-left                     8.280E-04  \n",
       "DG02-right                    1.458E-03  \n",
       "DG03-left                     1.001E-03  \n",
       "DG03-right                    8.078E-04  \n",
       "DG04-left                     5.464E-04  \n",
       "DG04-right                    8.553E-04  \n",
       "Mean                          3.426E-04  "
      ]
     },
     "execution_count": 14,
     "metadata": {},
     "output_type": "execute_result"
    }
   ],
   "source": [
    "from decay_reporting_functions import report\n",
    "\n",
    "report(fid_info, boot_info, experiment)"
   ]
  },
  {
   "cell_type": "markdown",
   "metadata": {},
   "source": [
    "### Plot decay"
   ]
  },
  {
   "cell_type": "code",
   "execution_count": 16,
   "metadata": {},
   "outputs": [
    {
     "data": {
      "image/png": "[encoded data removed]",
      "text/plain": [
       "<Figure size 432x288 with 1 Axes>"
      ]
     },
     "metadata": {
      "needs_background": "light"
     },
     "output_type": "display_data"
    }
   ],
   "source": [
    "from decay_reporting_functions import errorbar_plot\n",
    "\n",
    "errorbar_plot(fid_info, experiment)"
   ]
  },
  {
   "cell_type": "markdown",
   "metadata": {},
   "source": [
    "## Loading SPAM data\n",
    "\n",
    "The SPAM dataset is a single file with all bright and all dark detections for two ions per active gate zone."
   ]
  },
  {
   "cell_type": "code",
   "execution_count": 17,
   "metadata": {},
   "outputs": [],
   "source": [
    "import pathlib\n",
    "import json\n",
    "\n",
    "experiment = 'SPAM'\n",
    "file_name = f'{experiment}.json'\n",
    "\n",
    "data_dir = pathlib.Path.cwd().parent.joinpath('component_benchmarks/data')\n",
    "\n",
    "with open(data_dir.joinpath(file_name), 'r') as f:\n",
    "    data = json.load(f)"
   ]
  },
  {
   "cell_type": "markdown",
   "metadata": {},
   "source": [
    "### Report table\n",
    "\n",
    "The table contains the 0 and 1 state success frequency and the Avg SPAM across both states. Uncertainty is calculated by binomial standard deviation."
   ]
  },
  {
   "cell_type": "code",
   "execution_count": 19,
   "metadata": {},
   "outputs": [
    {
     "data": {
      "text/html": [
       "<div>\n",
       "<style scoped>\n",
       "    .dataframe tbody tr th:only-of-type {\n",
       "        vertical-align: middle;\n",
       "    }\n",
       "\n",
       "    .dataframe tbody tr th {\n",
       "        vertical-align: top;\n",
       "    }\n",
       "\n",
       "    .dataframe thead th {\n",
       "        text-align: right;\n",
       "    }\n",
       "</style>\n",
       "<table border=\"1\" class=\"dataframe\">\n",
       "  <thead>\n",
       "    <tr style=\"text-align: right;\">\n",
       "      <th></th>\n",
       "      <th>Avg. SPAM error</th>\n",
       "      <th>Avg. SPAM error uncertainty</th>\n",
       "      <th>0 SPAM error</th>\n",
       "      <th>1 SPAM error</th>\n",
       "    </tr>\n",
       "  </thead>\n",
       "  <tbody>\n",
       "    <tr>\n",
       "      <th>DG01-left</th>\n",
       "      <td>1.500E-03</td>\n",
       "      <td>3.869E-04</td>\n",
       "      <td>8.000E-04</td>\n",
       "      <td>2.200E-03</td>\n",
       "    </tr>\n",
       "    <tr>\n",
       "      <th>DG01-right</th>\n",
       "      <td>1.600E-03</td>\n",
       "      <td>3.996E-04</td>\n",
       "      <td>1.000E-03</td>\n",
       "      <td>2.200E-03</td>\n",
       "    </tr>\n",
       "    <tr>\n",
       "      <th>DG02-left</th>\n",
       "      <td>1.900E-03</td>\n",
       "      <td>4.354E-04</td>\n",
       "      <td>1.000E-03</td>\n",
       "      <td>2.800E-03</td>\n",
       "    </tr>\n",
       "    <tr>\n",
       "      <th>DG02-right</th>\n",
       "      <td>2.000E-03</td>\n",
       "      <td>4.467E-04</td>\n",
       "      <td>1.200E-03</td>\n",
       "      <td>2.800E-03</td>\n",
       "    </tr>\n",
       "    <tr>\n",
       "      <th>DG03-left</th>\n",
       "      <td>1.900E-03</td>\n",
       "      <td>4.354E-04</td>\n",
       "      <td>1.200E-03</td>\n",
       "      <td>2.600E-03</td>\n",
       "    </tr>\n",
       "    <tr>\n",
       "      <th>DG03-right</th>\n",
       "      <td>1.600E-03</td>\n",
       "      <td>3.995E-04</td>\n",
       "      <td>4.000E-04</td>\n",
       "      <td>2.800E-03</td>\n",
       "    </tr>\n",
       "    <tr>\n",
       "      <th>DG04-left</th>\n",
       "      <td>8.000E-04</td>\n",
       "      <td>2.827E-04</td>\n",
       "      <td>6.000E-04</td>\n",
       "      <td>1.000E-03</td>\n",
       "    </tr>\n",
       "    <tr>\n",
       "      <th>DG04-right</th>\n",
       "      <td>1.200E-03</td>\n",
       "      <td>3.462E-04</td>\n",
       "      <td>8.000E-04</td>\n",
       "      <td>1.600E-03</td>\n",
       "    </tr>\n",
       "    <tr>\n",
       "      <th>Mean</th>\n",
       "      <td>1.562E-03</td>\n",
       "      <td>1.396E-04</td>\n",
       "      <td>8.750E-04</td>\n",
       "      <td>2.250E-03</td>\n",
       "    </tr>\n",
       "  </tbody>\n",
       "</table>\n",
       "</div>"
      ],
      "text/plain": [
       "            Avg. SPAM error  Avg. SPAM error uncertainty  0 SPAM error  \\\n",
       "DG01-left         1.500E-03                    3.869E-04     8.000E-04   \n",
       "DG01-right        1.600E-03                    3.996E-04     1.000E-03   \n",
       "DG02-left         1.900E-03                    4.354E-04     1.000E-03   \n",
       "DG02-right        2.000E-03                    4.467E-04     1.200E-03   \n",
       "DG03-left         1.900E-03                    4.354E-04     1.200E-03   \n",
       "DG03-right        1.600E-03                    3.995E-04     4.000E-04   \n",
       "DG04-left         8.000E-04                    2.827E-04     6.000E-04   \n",
       "DG04-right        1.200E-03                    3.462E-04     8.000E-04   \n",
       "Mean              1.562E-03                    1.396E-04     8.750E-04   \n",
       "\n",
       "            1 SPAM error  \n",
       "DG01-left      2.200E-03  \n",
       "DG01-right     2.200E-03  \n",
       "DG02-left      2.800E-03  \n",
       "DG02-right     2.800E-03  \n",
       "DG03-left      2.600E-03  \n",
       "DG03-right     2.800E-03  \n",
       "DG04-left      1.000E-03  \n",
       "DG04-right     1.600E-03  \n",
       "Mean           2.250E-03  "
      ]
     },
     "execution_count": 19,
     "metadata": {},
     "output_type": "execute_result"
    }
   ],
   "source": [
    "from spam_reporting_functions import report\n",
    "\n",
    "report(experiment)"
   ]
  },
  {
   "cell_type": "markdown",
   "metadata": {},
   "source": [
    "<div align=\"center\"> &copy; 2023 by Quantinuum. All Rights Reserved. </div>"
   ]
  }
 ],
 "metadata": {
  "interpreter": {
   "hash": "ac725718f098b0f1e32c8e1cf396232eb8f28ab6a94d5ddf7870447b8fb468bb"
  },
  "kernelspec": {
   "display_name": "Python 3 (ipykernel)",
   "language": "python",
   "name": "python3"
  },
  "language_info": {
   "codemirror_mode": {
    "name": "ipython",
    "version": 3
   },
   "file_extension": ".py",
   "mimetype": "text/x-python",
   "name": "python",
   "nbconvert_exporter": "python",
   "pygments_lexer": "ipython3",
   "version": "3.9.0"
  }
 },
 "nbformat": 4,
 "nbformat_minor": 2
}
