{
 "cells": [
  {
   "cell_type": "markdown",
   "id": "f10d6248",
   "metadata": {},
   "source": [
    "# Random circuit sampling data and analysis"
   ]
  },
  {
   "cell_type": "code",
   "execution_count": 2,
   "id": "747a2937",
   "metadata": {},
   "outputs": [],
   "source": [
    "import json\n",
    "import matplotlib as mpl\n",
    "import matplotlib.pyplot as plt\n",
    "from scipy.optimize import curve_fit as cf\n",
    "import numpy as np\n",
    "from math import sqrt\n",
    "from collections import Counter\n",
    "mpl.rcParams.update({'errorbar.capsize' : 3})"
   ]
  },
  {
   "cell_type": "markdown",
   "id": "055339b6",
   "metadata": {},
   "source": [
    "## Defines functions for linear cross-entropy benchmarking analysis"
   ]
  },
  {
   "cell_type": "code",
   "execution_count": 3,
   "id": "a5fec1bb",
   "metadata": {},
   "outputs": [],
   "source": [
    "xv = range(12,36,4)\n",
    "\n",
    "# Linear cross-entropy benchmark\n",
    "def XEB(exp_counts, ideal_probs, N):\n",
    "    shots = sum(exp_counts.values())\n",
    "    avg = 0\n",
    "    for bs in list(exp_counts.keys()):\n",
    "        avg += exp_counts[bs] * ideal_probs[bs]\n",
    "    avg /= shots\n",
    "        \n",
    "    return (2**N) * avg - 1\n",
    "\n",
    "#Experimentally measured variance of the cross-entropy for a given circuit\n",
    "def xeb_exp_var(exp_counts, ideal_probs, N):\n",
    "    shots = sum(exp_counts.values())\n",
    "    XEB_avg = XEB(exp_counts, ideal_probs, N)\n",
    "    avg_p = (XEB_avg + 1)/(2**N)\n",
    "    \n",
    "    avg_psq = 0\n",
    "    for bs in list(exp_counts.keys()):\n",
    "        avg_psq += exp_counts[bs] * (ideal_probs[bs]**2)\n",
    "\n",
    "    avg_psq /= shots\n",
    "        \n",
    "    var_F = (2**(2*N)) * (avg_psq - avg_p**2) / shots\n",
    "    return var_F\n",
    "\n",
    "#Converts from process fidelity to average infidelity\n",
    "def process_fid_to_avg_infid(fid, fid_std_dev):\n",
    "    return ((4/5)*(1-fid), (4/5)*fid_std_dev)\n",
    "\n",
    "def tq_gates(N):\n",
    "    #This encodes the dictionary above with structure: {N: # 2q gates in circuit}\n",
    "    #tq_gates = {12: 53, 16: 74, 20: 98, 24: 123, 28 147:, 32: 172}\n",
    "    #This was done to play nicely with scipy.optimize\n",
    "    return 53*np.heaviside(N - 12,1)+(74-53)*np.heaviside(N-16,1)+(98-74)*np.heaviside(N-20,1)+(123-98)*np.heaviside(N-24,1)+(147-123)*np.heaviside(N-28,1)+(172-147)*np.heaviside(N-32,1)\n",
    "\n",
    "def theory_fit(N,tq_fid):\n",
    "    spam_fid = 0.9984\n",
    "    return  ((tq_fid)**(tq_gates(N))) * (spam_fid)**N"
   ]
  },
  {
   "cell_type": "markdown",
   "id": "8fed68a1",
   "metadata": {},
   "source": [
    "## Analyze data"
   ]
  },
  {
   "cell_type": "code",
   "execution_count": 8,
   "id": "3755681d",
   "metadata": {},
   "outputs": [
    {
     "name": "stdout",
     "output_type": "stream",
     "text": [
      "[0.942422660370542, 0.7766963372424728, 0.7926537206087036, 0.7245821508270235, 0.7053679775185037, 0.5737546544935302]\n",
      "[0.04852021422757364, 0.04121764710047375, 0.04444949380046846, 0.04290502080480624, 0.04191331774926624, 0.042715105446884866]\n"
     ]
    }
   ],
   "source": [
    "h2_data = []\n",
    "h2_data_errs = []\n",
    "\n",
    "for n in xv:\n",
    "    with open(f'data/RCS_N{n}_Experiment_10Circuits.json', 'r') as f: \n",
    "        save_dict = json.load(f)\n",
    "    counts_noise = []\n",
    "    probs_table = []\n",
    "    for i in range(10):\n",
    "        probs_table.append(save_dict['bitstring_probs'][str(i)])\n",
    "        counts_noise.append(Counter(save_dict['exp_results'][str(i)]['c']))\n",
    "        \n",
    "        \n",
    "    xeb = [XEB(counts_noise[i], probs_table[i], n) for i in range(10)]\n",
    "    xeb_exp_vars = [xeb_exp_var(counts_noise[i], probs_table[i], n) for i in range(10)]\n",
    "\n",
    "    inv_vars = [1/var for var in xeb_exp_vars]\n",
    "\n",
    "    xeb = np.average(xeb, weights = inv_vars)\n",
    "    xeb_variance = 1/sum(inv_vars)\n",
    "\n",
    "    h2_data.append(xeb)\n",
    "    h2_data_errs.append(sqrt(xeb_variance))\n",
    "\n",
    "process_fid, process_fid_variance = cf(theory_fit, list(xv),h2_data, sigma=h2_data_errs,p0=0.998)\n",
    "#Return average infidelity and 1 sigma error\n",
    "process_fid_to_avg_infid(process_fid[0], sqrt(process_fid_variance))\n",
    "\n",
    "theory = [theory_fit(N,process_fid) for N in xv]"
   ]
  },
  {
   "cell_type": "markdown",
   "id": "ae0875d8",
   "metadata": {},
   "source": [
    "## Plot data"
   ]
  },
  {
   "cell_type": "code",
   "execution_count": 11,
   "id": "bea95574",
   "metadata": {},
   "outputs": [
    {
     "data": {
      "text/plain": [
       "(0.0, 1.0)"
      ]
     },
     "execution_count": 11,
     "metadata": {},
     "output_type": "execute_result"
    },
    {
     "data": {
      "image/png": "[encoded data removed]",
      "text/plain": [
       "<Figure size 432x288 with 1 Axes>"
      ]
     },
     "metadata": {},
     "output_type": "display_data"
    }
   ],
   "source": [
    "fig, ax = plt.subplots()\n",
    "fig.set_facecolor('white')\n",
    "\n",
    "color_list = [plt.get_cmap(\"tab10\").colors[i] for i in range(10)]\n",
    "\n",
    "ax.errorbar(\n",
    "            xv,\n",
    "            h2_data,\n",
    "            yerr=h2_data_errs,\n",
    "            fmt=\"o\",\n",
    "            markersize=5,\n",
    "            capsize=3,\n",
    "            ecolor=color_list[0],\n",
    "            markerfacecolor=[1, 1, 1],\n",
    "            markeredgecolor=color_list[0],label=None\n",
    "        )\n",
    "\n",
    "ax.plot(xv, theory, \"-\", color=color_list[0])\n",
    "        \n",
    "ax.grid(visible=True, axis=\"both\", linestyle=\"--\")\n",
    "ax.set_xlabel(\"Number of qubits, N\", fontsize=12)\n",
    "ax.set_ylabel(\"Cross-entropy benchmarking fidelity, $\\mathcal{F}_{{XEB}}$\",  fontsize=12)\n",
    "plt.xticks(xv)\n",
    "plt.ylim([0.0, 1.0])"
   ]
  },
  {
   "cell_type": "markdown",
   "id": "df2e31d2",
   "metadata": {},
   "source": [
    "<div align=\"center\"> &copy; 2023 by Quantinuum. All Rights Reserved. </div>"
   ]
  }
 ],
 "metadata": {
  "kernelspec": {
   "display_name": "Python 3 (ipykernel)",
   "language": "python",
   "name": "python3"
  },
  "language_info": {
   "codemirror_mode": {
    "name": "ipython",
    "version": 3
   },
   "file_extension": ".py",
   "mimetype": "text/x-python",
   "name": "python",
   "nbconvert_exporter": "python",
   "pygments_lexer": "ipython3",
   "version": "3.9.0"
  }
 },
 "nbformat": 4,
 "nbformat_minor": 5
}
